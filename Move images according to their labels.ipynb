{
 "cells": [
  {
   "cell_type": "code",
   "execution_count": 57,
   "metadata": {
    "scrolled": true
   },
   "outputs": [],
   "source": [
    "import pandas as pd"
   ]
  },
  {
   "cell_type": "code",
   "execution_count": 58,
   "metadata": {
    "scrolled": true
   },
   "outputs": [],
   "source": [
    "df = pd.read_csv('a.csv')"
   ]
  },
  {
   "cell_type": "code",
   "execution_count": 59,
   "metadata": {
    "scrolled": true
   },
   "outputs": [
    {
     "data": {
      "text/html": [
       "<div>\n",
       "<style scoped>\n",
       "    .dataframe tbody tr th:only-of-type {\n",
       "        vertical-align: middle;\n",
       "    }\n",
       "\n",
       "    .dataframe tbody tr th {\n",
       "        vertical-align: top;\n",
       "    }\n",
       "\n",
       "    .dataframe thead th {\n",
       "        text-align: right;\n",
       "    }\n",
       "</style>\n",
       "<table border=\"1\" class=\"dataframe\">\n",
       "  <thead>\n",
       "    <tr style=\"text-align: right;\">\n",
       "      <th></th>\n",
       "      <th>Unnamed: 0</th>\n",
       "      <th>weight</th>\n",
       "      <th>height</th>\n",
       "      <th>age</th>\n",
       "      <th>sex</th>\n",
       "      <th>image name</th>\n",
       "      <th>bmi_label</th>\n",
       "      <th>category</th>\n",
       "      <th>bmi</th>\n",
       "    </tr>\n",
       "  </thead>\n",
       "  <tbody>\n",
       "    <tr>\n",
       "      <th>0</th>\n",
       "      <td>0</td>\n",
       "      <td>84</td>\n",
       "      <td>188</td>\n",
       "      <td>24</td>\n",
       "      <td>male</td>\n",
       "      <td>901a.png</td>\n",
       "      <td>2</td>\n",
       "      <td>normal</td>\n",
       "      <td>23.766410</td>\n",
       "    </tr>\n",
       "    <tr>\n",
       "      <th>1</th>\n",
       "      <td>1</td>\n",
       "      <td>84</td>\n",
       "      <td>165</td>\n",
       "      <td>21</td>\n",
       "      <td>female</td>\n",
       "      <td>902a.png</td>\n",
       "      <td>4</td>\n",
       "      <td>obese</td>\n",
       "      <td>30.853994</td>\n",
       "    </tr>\n",
       "    <tr>\n",
       "      <th>2</th>\n",
       "      <td>2</td>\n",
       "      <td>84</td>\n",
       "      <td>170</td>\n",
       "      <td>23</td>\n",
       "      <td>male</td>\n",
       "      <td>903a.png</td>\n",
       "      <td>3</td>\n",
       "      <td>overweight</td>\n",
       "      <td>29.065744</td>\n",
       "    </tr>\n",
       "    <tr>\n",
       "      <th>3</th>\n",
       "      <td>3</td>\n",
       "      <td>84</td>\n",
       "      <td>185</td>\n",
       "      <td>29</td>\n",
       "      <td>male</td>\n",
       "      <td>905a.png</td>\n",
       "      <td>2</td>\n",
       "      <td>normal</td>\n",
       "      <td>24.543462</td>\n",
       "    </tr>\n",
       "    <tr>\n",
       "      <th>4</th>\n",
       "      <td>4</td>\n",
       "      <td>84</td>\n",
       "      <td>191</td>\n",
       "      <td>22</td>\n",
       "      <td>male</td>\n",
       "      <td>906a.png</td>\n",
       "      <td>2</td>\n",
       "      <td>normal</td>\n",
       "      <td>23.025685</td>\n",
       "    </tr>\n",
       "  </tbody>\n",
       "</table>\n",
       "</div>"
      ],
      "text/plain": [
       "   Unnamed: 0  weight  height  age     sex image name  bmi_label    category  \\\n",
       "0           0      84     188   24    male   901a.png          2      normal   \n",
       "1           1      84     165   21  female   902a.png          4       obese   \n",
       "2           2      84     170   23    male   903a.png          3  overweight   \n",
       "3           3      84     185   29    male   905a.png          2      normal   \n",
       "4           4      84     191   22    male   906a.png          2      normal   \n",
       "\n",
       "         bmi  \n",
       "0  23.766410  \n",
       "1  30.853994  \n",
       "2  29.065744  \n",
       "3  24.543462  \n",
       "4  23.025685  "
      ]
     },
     "execution_count": 59,
     "metadata": {},
     "output_type": "execute_result"
    }
   ],
   "source": [
    "df.head()"
   ]
  },
  {
   "cell_type": "code",
   "execution_count": 60,
   "metadata": {
    "scrolled": true
   },
   "outputs": [
    {
     "data": {
      "text/plain": [
       "0       901a.png\n",
       "1       902a.png\n",
       "2       903a.png\n",
       "3       905a.png\n",
       "4       906a.png\n",
       "5       907a.png\n",
       "6       908a.png\n",
       "7       910a.png\n",
       "8       911a.png\n",
       "9       912a.png\n",
       "10      913a.png\n",
       "11      914a.png\n",
       "12      915a.png\n",
       "13      917a.png\n",
       "14      918a.png\n",
       "15      920a.png\n",
       "16      921a.png\n",
       "17      922a.png\n",
       "18      923a.png\n",
       "19      926a.png\n",
       "20      927a.png\n",
       "21      928a.png\n",
       "22      930a.png\n",
       "23      933a.png\n",
       "24      935a.png\n",
       "25      936a.png\n",
       "26      937a.png\n",
       "27      938a.png\n",
       "28      939a.png\n",
       "29      940a.png\n",
       "         ...    \n",
       "334    1271a.png\n",
       "335    1272a.png\n",
       "336    1273a.png\n",
       "337    1274a.png\n",
       "338    1275a.png\n",
       "339    1276a.png\n",
       "340    1277a.png\n",
       "341    1278a.png\n",
       "342    1279a.png\n",
       "343    1280a.png\n",
       "344    1281a.png\n",
       "345    1282a.png\n",
       "346    1283a.png\n",
       "347    1284a.png\n",
       "348    1285a.png\n",
       "349    1286a.png\n",
       "350    1287a.png\n",
       "351    1288a.png\n",
       "352    1289a.png\n",
       "353    1290a.png\n",
       "354    1291a.png\n",
       "355    1292a.png\n",
       "356    1293a.png\n",
       "357    1294a.png\n",
       "358    1295a.png\n",
       "359    1296a.png\n",
       "360    1297a.png\n",
       "361    1298a.png\n",
       "362    1299a.png\n",
       "363    1300a.png\n",
       "Name: image name, Length: 364, dtype: object"
      ]
     },
     "execution_count": 60,
     "metadata": {},
     "output_type": "execute_result"
    }
   ],
   "source": [
    "df['image name']"
   ]
  },
  {
   "cell_type": "code",
   "execution_count": 61,
   "metadata": {
    "scrolled": true
   },
   "outputs": [],
   "source": [
    "import cv2"
   ]
  },
  {
   "cell_type": "code",
   "execution_count": 62,
   "metadata": {},
   "outputs": [],
   "source": [
    "for img in df['image name']:\n",
    "    img_file = cv2.imread(img)"
   ]
  },
  {
   "cell_type": "code",
   "execution_count": 63,
   "metadata": {},
   "outputs": [],
   "source": [
    "for i in df.loc[df['bmi_label']==1]:\n",
    "    img = cv2.imread(i)"
   ]
  },
  {
   "cell_type": "code",
   "execution_count": 64,
   "metadata": {},
   "outputs": [
    {
     "data": {
      "text/html": [
       "<div>\n",
       "<style scoped>\n",
       "    .dataframe tbody tr th:only-of-type {\n",
       "        vertical-align: middle;\n",
       "    }\n",
       "\n",
       "    .dataframe tbody tr th {\n",
       "        vertical-align: top;\n",
       "    }\n",
       "\n",
       "    .dataframe thead th {\n",
       "        text-align: right;\n",
       "    }\n",
       "</style>\n",
       "<table border=\"1\" class=\"dataframe\">\n",
       "  <thead>\n",
       "    <tr style=\"text-align: right;\">\n",
       "      <th></th>\n",
       "      <th>Unnamed: 0</th>\n",
       "      <th>weight</th>\n",
       "      <th>height</th>\n",
       "      <th>age</th>\n",
       "      <th>sex</th>\n",
       "      <th>image name</th>\n",
       "      <th>bmi_label</th>\n",
       "      <th>category</th>\n",
       "      <th>bmi</th>\n",
       "    </tr>\n",
       "  </thead>\n",
       "  <tbody>\n",
       "    <tr>\n",
       "      <th>2</th>\n",
       "      <td>2</td>\n",
       "      <td>84</td>\n",
       "      <td>170</td>\n",
       "      <td>23</td>\n",
       "      <td>male</td>\n",
       "      <td>903a.png</td>\n",
       "      <td>3</td>\n",
       "      <td>overweight</td>\n",
       "      <td>29.065744</td>\n",
       "    </tr>\n",
       "  </tbody>\n",
       "</table>\n",
       "</div>"
      ],
      "text/plain": [
       "   Unnamed: 0  weight  height  age   sex image name  bmi_label    category  \\\n",
       "2           2      84     170   23  male   903a.png          3  overweight   \n",
       "\n",
       "         bmi  \n",
       "2  29.065744  "
      ]
     },
     "execution_count": 64,
     "metadata": {},
     "output_type": "execute_result"
    }
   ],
   "source": [
    "df[df['image name'] == '903a.png']"
   ]
  },
  {
   "cell_type": "code",
   "execution_count": 65,
   "metadata": {},
   "outputs": [
    {
     "data": {
      "text/plain": [
       "3"
      ]
     },
     "execution_count": 65,
     "metadata": {},
     "output_type": "execute_result"
    }
   ],
   "source": [
    "df[df['image name']==\"903a.png\"][\"bmi_label\"].values[0]"
   ]
  },
  {
   "cell_type": "code",
   "execution_count": 66,
   "metadata": {},
   "outputs": [],
   "source": [
    "import os"
   ]
  },
  {
   "cell_type": "code",
   "execution_count": null,
   "metadata": {},
   "outputs": [],
   "source": [
    "bmi_group = [\"underweight\", \"normal\", \"overweight\", \"obese\"]\n",
    "for img_file in os.listdir('images'):\n",
    "    try:\n",
    "        group_no = int(df[df['image name']==img_file][\"bmi_label\"].values[0])\n",
    "        src = \"images/\" + img_file\n",
    "        dest = str(bmi_group[group_no-1]) + \"/\" + img_file\n",
    "        os.rename(src, dest)\n",
    "    except:\n",
    "        print(df[df['image name']==img_file][\"bmi_label\"].values)"
   ]
  }
 ],
 "metadata": {
  "kernelspec": {
   "display_name": "Python 2",
   "language": "python",
   "name": "python2"
  },
  "language_info": {
   "codemirror_mode": {
    "name": "ipython",
    "version": 2
   },
   "file_extension": ".py",
   "mimetype": "text/x-python",
   "name": "python",
   "nbconvert_exporter": "python",
   "pygments_lexer": "ipython2",
   "version": "2.7.12"
  }
 },
 "nbformat": 4,
 "nbformat_minor": 2
}
